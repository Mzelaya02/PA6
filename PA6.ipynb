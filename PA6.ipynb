{
 "cells": [
  {
   "cell_type": "markdown",
   "id": "c98c6de7",
   "metadata": {},
   "source": [
    "# Computer Programming For the Liberal Arts \n"
   ]
  },
  {
   "cell_type": "markdown",
   "id": "b5d5119a",
   "metadata": {},
   "source": [
    "## Michael Zelaya"
   ]
  },
  {
   "cell_type": "markdown",
   "id": "9b2c4c42",
   "metadata": {},
   "source": [
    "## Programming Assignment 6 (Version 6)"
   ]
  },
  {
   "cell_type": "markdown",
   "id": "e8c2d3b1",
   "metadata": {},
   "source": [
    "## Spring 2023"
   ]
  },
  {
   "cell_type": "markdown",
   "id": "91064b1c",
   "metadata": {},
   "source": [
    "### a)"
   ]
  },
  {
   "cell_type": "code",
   "execution_count": 2,
   "id": "7439de50",
   "metadata": {},
   "outputs": [
    {
     "name": "stdout",
     "output_type": "stream",
     "text": [
      "Enter the length of side A: 5\n",
      "Enter the length of side B: 5\n",
      "Enter the length of side C: 5\n",
      "The area of the triangle is approximately 10.825317547305483 square units.\n",
      "The perimeter of a triangle is 15.0 linear units.\n",
      "Do you want to exit? (0 for no and 1 for yes.1\n"
     ]
    }
   ],
   "source": [
    "import math \n",
    "def triangle (a,b,c):\n",
    "    f= (a+b+c)/2\n",
    "    area= math.sqrt(f*(f-a)*(f-b)*(f-c))\n",
    "    perimeter= f*2\n",
    "    return print(f\"The area of the triangle is approximately {area} square units.\\nThe perimeter of a triangle is {perimeter} linear units.\")\n",
    "exit=0\n",
    "while exit!=1:\n",
    "    f1= float(input(\"Enter the length of side A: \"))\n",
    "    f2= float(input(\"Enter the length of side B: \"))\n",
    "    f3= float(input(\"Enter the length of side C: \"))\n",
    "    triangle(f1,f2,f3)\n",
    "    exit=int(input(\"Do you want to exit? (0 for no and 1 for yes.\"))"
   ]
  },
  {
   "cell_type": "markdown",
   "id": "110ec527",
   "metadata": {},
   "source": [
    "### b)"
   ]
  },
  {
   "cell_type": "code",
   "execution_count": 3,
   "id": "7a6aff6e",
   "metadata": {},
   "outputs": [
    {
     "name": "stdout",
     "output_type": "stream",
     "text": [
      "Guess a number from 1 to 1000: 200\n",
      "Too high! Guess again\n",
      "Guess a number from 1 to 1000: 100\n",
      "Too high! Guess again\n",
      "Guess a number from 1 to 1000: 65\n",
      "You have guessed the correct number after 3 times!\n"
     ]
    }
   ],
   "source": [
    "import random \n",
    "random_number=random.randint(1,1000)\n",
    "typed_number= None\n",
    "attempt=0\n",
    "\n",
    "while typed_number!=random_number:\n",
    "    attempt+=1\n",
    "    typed_number=int(input(\"Guess a number from 1 to 1000: \"))\n",
    "    if typed_number==random_number:\n",
    "        print(f\"You have guessed the correct number after {attempt} times!\")\n",
    "    elif typed_number<random_number:\n",
    "        print(\"Too low! Guess again\")\n",
    "    else:\n",
    "        print(\"Too high! Guess again\")\n",
    "        "
   ]
  },
  {
   "cell_type": "markdown",
   "id": "e089dc10",
   "metadata": {},
   "source": [
    "### c)"
   ]
  },
  {
   "cell_type": "code",
   "execution_count": 4,
   "id": "51f131e0",
   "metadata": {},
   "outputs": [
    {
     "name": "stdout",
     "output_type": "stream",
     "text": [
      "Enter a temperature of a recent day: 88\n",
      "Do you want add another day? (1 for no and 0 for yes) 0\n",
      "Enter a temperature of a recent day: 90\n",
      "Do you want add another day? (1 for no and 0 for yes) 0\n",
      "Enter a temperature of a recent day: 92\n",
      "Do you want add another day? (1 for no and 0 for yes) 1\n",
      "The mean temperature for the past 3 days were 90.0 degrees F.\n"
     ]
    }
   ],
   "source": [
    "temp_list=[]\n",
    "mean_temp=0\n",
    "exit1=0\n",
    "while exit1!=1:\n",
    "    temp=float(input(\"Enter a temperature of a recent day: \"))\n",
    "    temp_list.append(temp)\n",
    "    mean_temp=mean_temp+temp\n",
    "    exit1=int(input(\"Do you want add another day? (1 for no and 0 for yes) \"))\n",
    "print(f\"The mean temperature for the past {len(temp_list)} days were {mean_temp/len(temp_list)} degrees F.\")"
   ]
  }
 ],
 "metadata": {
  "kernelspec": {
   "display_name": "Python 3 (ipykernel)",
   "language": "python",
   "name": "python3"
  },
  "language_info": {
   "codemirror_mode": {
    "name": "ipython",
    "version": 3
   },
   "file_extension": ".py",
   "mimetype": "text/x-python",
   "name": "python",
   "nbconvert_exporter": "python",
   "pygments_lexer": "ipython3",
   "version": "3.9.13"
  }
 },
 "nbformat": 4,
 "nbformat_minor": 5
}
